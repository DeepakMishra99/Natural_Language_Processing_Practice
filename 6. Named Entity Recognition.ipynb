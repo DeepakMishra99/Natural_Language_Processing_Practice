{
 "cells": [
  {
   "cell_type": "code",
   "execution_count": 2,
   "id": "d192b550",
   "metadata": {},
   "outputs": [],
   "source": [
    "paragraph='''Independence Day is celebrated annually on 15 August as a public holiday in India commemorating the nation's independence from the United Kingdom on 15 August 1947,\n",
    "the day when the provisions of the Indian Independence Act, which transferred legislative sovereignty to the Indian Constituent Assembly, came into effect.\n",
    "India attained independence following the independence movement noted for largely non-violent resistance and civil disobedience led by Indian National Congress under the leadership of Mahatma Gandhi.'''"
   ]
  },
  {
   "cell_type": "code",
   "execution_count": 3,
   "id": "afd72159",
   "metadata": {},
   "outputs": [],
   "source": [
    "import nltk\n",
    "words=nltk.word_tokenize(paragraph)"
   ]
  },
  {
   "cell_type": "code",
   "execution_count": 4,
   "id": "87acc938",
   "metadata": {},
   "outputs": [
    {
     "data": {
      "text/plain": [
       "['Independence',\n",
       " 'Day',\n",
       " 'is',\n",
       " 'celebrated',\n",
       " 'annually',\n",
       " 'on',\n",
       " '15',\n",
       " 'August',\n",
       " 'as',\n",
       " 'a',\n",
       " 'public',\n",
       " 'holiday',\n",
       " 'in',\n",
       " 'India',\n",
       " 'commemorating',\n",
       " 'the',\n",
       " 'nation',\n",
       " \"'s\",\n",
       " 'independence',\n",
       " 'from',\n",
       " 'the',\n",
       " 'United',\n",
       " 'Kingdom',\n",
       " 'on',\n",
       " '15',\n",
       " 'August',\n",
       " '1947',\n",
       " ',',\n",
       " 'the',\n",
       " 'day',\n",
       " 'when',\n",
       " 'the',\n",
       " 'provisions',\n",
       " 'of',\n",
       " 'the',\n",
       " 'Indian',\n",
       " 'Independence',\n",
       " 'Act',\n",
       " ',',\n",
       " 'which',\n",
       " 'transferred',\n",
       " 'legislative',\n",
       " 'sovereignty',\n",
       " 'to',\n",
       " 'the',\n",
       " 'Indian',\n",
       " 'Constituent',\n",
       " 'Assembly',\n",
       " ',',\n",
       " 'came',\n",
       " 'into',\n",
       " 'effect',\n",
       " '.',\n",
       " 'India',\n",
       " 'attained',\n",
       " 'independence',\n",
       " 'following',\n",
       " 'the',\n",
       " 'independence',\n",
       " 'movement',\n",
       " 'noted',\n",
       " 'for',\n",
       " 'largely',\n",
       " 'non-violent',\n",
       " 'resistance',\n",
       " 'and',\n",
       " 'civil',\n",
       " 'disobedience',\n",
       " 'led',\n",
       " 'by',\n",
       " 'Indian',\n",
       " 'National',\n",
       " 'Congress',\n",
       " 'under',\n",
       " 'the',\n",
       " 'leadership',\n",
       " 'of',\n",
       " 'Mahatma',\n",
       " 'Gandhi',\n",
       " '.']"
      ]
     },
     "execution_count": 4,
     "metadata": {},
     "output_type": "execute_result"
    }
   ],
   "source": [
    "words"
   ]
  },
  {
   "cell_type": "code",
   "execution_count": 5,
   "id": "ab06b246",
   "metadata": {},
   "outputs": [],
   "source": [
    "tag_elements=nltk.pos_tag(words)"
   ]
  },
  {
   "cell_type": "code",
   "execution_count": 6,
   "id": "9d1165eb",
   "metadata": {},
   "outputs": [
    {
     "data": {
      "text/plain": [
       "[('Independence', 'NNP'),\n",
       " ('Day', 'NNP'),\n",
       " ('is', 'VBZ'),\n",
       " ('celebrated', 'VBN'),\n",
       " ('annually', 'RB'),\n",
       " ('on', 'IN'),\n",
       " ('15', 'CD'),\n",
       " ('August', 'NNP'),\n",
       " ('as', 'IN'),\n",
       " ('a', 'DT'),\n",
       " ('public', 'JJ'),\n",
       " ('holiday', 'NN'),\n",
       " ('in', 'IN'),\n",
       " ('India', 'NNP'),\n",
       " ('commemorating', 'VBG'),\n",
       " ('the', 'DT'),\n",
       " ('nation', 'NN'),\n",
       " (\"'s\", 'POS'),\n",
       " ('independence', 'NN'),\n",
       " ('from', 'IN'),\n",
       " ('the', 'DT'),\n",
       " ('United', 'NNP'),\n",
       " ('Kingdom', 'NNP'),\n",
       " ('on', 'IN'),\n",
       " ('15', 'CD'),\n",
       " ('August', 'NNP'),\n",
       " ('1947', 'CD'),\n",
       " (',', ','),\n",
       " ('the', 'DT'),\n",
       " ('day', 'NN'),\n",
       " ('when', 'WRB'),\n",
       " ('the', 'DT'),\n",
       " ('provisions', 'NNS'),\n",
       " ('of', 'IN'),\n",
       " ('the', 'DT'),\n",
       " ('Indian', 'JJ'),\n",
       " ('Independence', 'NNP'),\n",
       " ('Act', 'NNP'),\n",
       " (',', ','),\n",
       " ('which', 'WDT'),\n",
       " ('transferred', 'VBD'),\n",
       " ('legislative', 'JJ'),\n",
       " ('sovereignty', 'NN'),\n",
       " ('to', 'TO'),\n",
       " ('the', 'DT'),\n",
       " ('Indian', 'JJ'),\n",
       " ('Constituent', 'NNP'),\n",
       " ('Assembly', 'NNP'),\n",
       " (',', ','),\n",
       " ('came', 'VBD'),\n",
       " ('into', 'IN'),\n",
       " ('effect', 'NN'),\n",
       " ('.', '.'),\n",
       " ('India', 'NNP'),\n",
       " ('attained', 'VBD'),\n",
       " ('independence', 'NN'),\n",
       " ('following', 'VBG'),\n",
       " ('the', 'DT'),\n",
       " ('independence', 'NN'),\n",
       " ('movement', 'NN'),\n",
       " ('noted', 'VBD'),\n",
       " ('for', 'IN'),\n",
       " ('largely', 'RB'),\n",
       " ('non-violent', 'JJ'),\n",
       " ('resistance', 'NN'),\n",
       " ('and', 'CC'),\n",
       " ('civil', 'JJ'),\n",
       " ('disobedience', 'NN'),\n",
       " ('led', 'VBN'),\n",
       " ('by', 'IN'),\n",
       " ('Indian', 'JJ'),\n",
       " ('National', 'NNP'),\n",
       " ('Congress', 'NNP'),\n",
       " ('under', 'IN'),\n",
       " ('the', 'DT'),\n",
       " ('leadership', 'NN'),\n",
       " ('of', 'IN'),\n",
       " ('Mahatma', 'NNP'),\n",
       " ('Gandhi', 'NNP'),\n",
       " ('.', '.')]"
      ]
     },
     "execution_count": 6,
     "metadata": {},
     "output_type": "execute_result"
    }
   ],
   "source": [
    "tag_elements"
   ]
  },
  {
   "cell_type": "code",
   "execution_count": 8,
   "id": "bd268925",
   "metadata": {},
   "outputs": [
    {
     "name": "stderr",
     "output_type": "stream",
     "text": [
      "[nltk_data] Downloading package maxent_ne_chunker to\n",
      "[nltk_data]     C:\\Users\\91821\\AppData\\Roaming\\nltk_data...\n",
      "[nltk_data]   Unzipping chunkers\\maxent_ne_chunker.zip.\n"
     ]
    },
    {
     "data": {
      "text/plain": [
       "True"
      ]
     },
     "execution_count": 8,
     "metadata": {},
     "output_type": "execute_result"
    }
   ],
   "source": [
    " nltk.download('maxent_ne_chunker')"
   ]
  },
  {
   "cell_type": "code",
   "execution_count": 10,
   "id": "f3fe6b06",
   "metadata": {},
   "outputs": [
    {
     "name": "stderr",
     "output_type": "stream",
     "text": [
      "[nltk_data] Downloading package words to\n",
      "[nltk_data]     C:\\Users\\91821\\AppData\\Roaming\\nltk_data...\n",
      "[nltk_data]   Unzipping corpora\\words.zip.\n"
     ]
    },
    {
     "data": {
      "text/plain": [
       "True"
      ]
     },
     "execution_count": 10,
     "metadata": {},
     "output_type": "execute_result"
    }
   ],
   "source": [
    " nltk.download('words')"
   ]
  },
  {
   "cell_type": "code",
   "execution_count": 15,
   "id": "98a9160a",
   "metadata": {},
   "outputs": [],
   "source": [
    "nltk.ne_chunk(tag_elements,binary=False).draw()"
   ]
  },
  {
   "cell_type": "code",
   "execution_count": null,
   "id": "05a1453c",
   "metadata": {},
   "outputs": [],
   "source": []
  },
  {
   "cell_type": "code",
   "execution_count": null,
   "id": "c2315fdf",
   "metadata": {},
   "outputs": [],
   "source": []
  },
  {
   "cell_type": "code",
   "execution_count": null,
   "id": "a3021b2e",
   "metadata": {},
   "outputs": [],
   "source": []
  },
  {
   "cell_type": "code",
   "execution_count": null,
   "id": "313eadda",
   "metadata": {},
   "outputs": [],
   "source": []
  },
  {
   "cell_type": "code",
   "execution_count": null,
   "id": "e7924d38",
   "metadata": {},
   "outputs": [],
   "source": []
  },
  {
   "cell_type": "code",
   "execution_count": null,
   "id": "0f831b82",
   "metadata": {},
   "outputs": [],
   "source": []
  },
  {
   "cell_type": "code",
   "execution_count": null,
   "id": "bb923ffb",
   "metadata": {},
   "outputs": [],
   "source": []
  }
 ],
 "metadata": {
  "kernelspec": {
   "display_name": "Python 3 (ipykernel)",
   "language": "python",
   "name": "python3"
  },
  "language_info": {
   "codemirror_mode": {
    "name": "ipython",
    "version": 3
   },
   "file_extension": ".py",
   "mimetype": "text/x-python",
   "name": "python",
   "nbconvert_exporter": "python",
   "pygments_lexer": "ipython3",
   "version": "3.10.9"
  }
 },
 "nbformat": 4,
 "nbformat_minor": 5
}
