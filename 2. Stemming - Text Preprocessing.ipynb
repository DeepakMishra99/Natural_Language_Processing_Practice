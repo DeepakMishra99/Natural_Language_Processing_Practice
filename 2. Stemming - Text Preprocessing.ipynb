{
 "cells": [
  {
   "cell_type": "markdown",
   "id": "5fd82151",
   "metadata": {},
   "source": [
    "## Stemming in NLP"
   ]
  },
  {
   "cell_type": "code",
   "execution_count": 2,
   "id": "76fc0ac5",
   "metadata": {},
   "outputs": [],
   "source": [
    "words = [\"playing\", \"plays\", \"played\", \"running\", \"happiness\", \"universities\",\"finally\",\"finalize\"]"
   ]
  },
  {
   "cell_type": "code",
   "execution_count": 5,
   "id": "ae470c83",
   "metadata": {},
   "outputs": [],
   "source": [
    "from nltk.stem import PorterStemmer,SnowballStemmer,LancasterStemmer"
   ]
  },
  {
   "cell_type": "code",
   "execution_count": 7,
   "id": "d794960b",
   "metadata": {},
   "outputs": [],
   "source": [
    "porterstemmer=PorterStemmer()\n",
    "snowballstemmer=SnowballStemmer(\"english\")\n",
    "lancasterstemmer=LancasterStemmer()"
   ]
  },
  {
   "cell_type": "code",
   "execution_count": 13,
   "id": "d3081a8b",
   "metadata": {},
   "outputs": [
    {
     "name": "stdout",
     "output_type": "stream",
     "text": [
      "********************************\n",
      "Porter Stemmer\n",
      "********************************\n",
      "playing ----> play\n",
      "plays ----> play\n",
      "played ----> play\n",
      "running ----> run\n",
      "happiness ----> happi\n",
      "universities ----> univers\n",
      "finally ----> final\n",
      "finalize ----> final\n",
      "--------------------------------\n"
     ]
    }
   ],
   "source": [
    "# Porter Stemmer\n",
    "print(\"*\"*32)\n",
    "print(\"Porter Stemmer\")\n",
    "print(\"*\"*32)\n",
    "for word in words:\n",
    "    porter=porterstemmer.stem(word)\n",
    "    print(f\"{word} ----> {porter}\")\n",
    "print(\"-\"*32)\n",
    "\n",
    "    "
   ]
  },
  {
   "cell_type": "code",
   "execution_count": 14,
   "id": "3d03aba2",
   "metadata": {},
   "outputs": [
    {
     "name": "stdout",
     "output_type": "stream",
     "text": [
      "********************************\n",
      "Snowball Stemmer\n",
      "********************************\n",
      "playing ----> play\n",
      "plays ----> play\n",
      "played ----> play\n",
      "running ----> run\n",
      "happiness ----> happi\n",
      "universities ----> univers\n",
      "finally ----> final\n",
      "finalize ----> final\n",
      "--------------------------------\n"
     ]
    }
   ],
   "source": [
    "# Snowball Stemmer\n",
    "print(\"*\"*32)\n",
    "print(\"Snowball Stemmer\")\n",
    "print(\"*\"*32)\n",
    "for word in words:\n",
    "    snowball=snowballstemmer.stem(word)\n",
    "    print(f\"{word} ----> {snowball}\")\n",
    "print(\"-\"*32)\n"
   ]
  },
  {
   "cell_type": "code",
   "execution_count": 15,
   "id": "7197fade",
   "metadata": {},
   "outputs": [
    {
     "name": "stdout",
     "output_type": "stream",
     "text": [
      "********************************\n",
      "Lancaster Stemmer\n",
      "********************************\n",
      "playing ----> play\n",
      "plays ----> play\n",
      "played ----> play\n",
      "running ----> run\n",
      "happiness ----> happy\n",
      "universities ----> univers\n",
      "finally ----> fin\n",
      "finalize ----> fin\n",
      "--------------------------------\n"
     ]
    }
   ],
   "source": [
    "# Lancaster Stemmer\n",
    "print(\"*\"*32)\n",
    "print(\"Lancaster Stemmer\")\n",
    "print(\"*\"*32)\n",
    "for word in words:\n",
    "    lancaster=lancasterstemmer.stem(word)\n",
    "    print(f\"{word} ----> {lancaster}\")\n",
    "print(\"-\"*32)\n"
   ]
  },
  {
   "cell_type": "markdown",
   "id": "487eb5d6",
   "metadata": {},
   "source": [
    "#### RegexpStemmer Class"
   ]
  },
  {
   "cell_type": "code",
   "execution_count": 16,
   "id": "72a76d6c",
   "metadata": {},
   "outputs": [],
   "source": [
    "from nltk.stem import RegexpStemmer"
   ]
  },
  {
   "cell_type": "code",
   "execution_count": 21,
   "id": "6f8aafa1",
   "metadata": {},
   "outputs": [],
   "source": [
    "regexpstemmer=RegexpStemmer('ing$|s$|es$|able$|ness$|ly$|ize$|ed$|ies$')"
   ]
  },
  {
   "cell_type": "code",
   "execution_count": 22,
   "id": "c7192a65",
   "metadata": {},
   "outputs": [
    {
     "name": "stdout",
     "output_type": "stream",
     "text": [
      "playing ----> play\n",
      "plays ----> play\n",
      "played ----> play\n",
      "running ----> runn\n",
      "happiness ----> happi\n",
      "universities ----> universit\n",
      "finally ----> final\n",
      "finalize ----> final\n"
     ]
    }
   ],
   "source": [
    "for word in words:\n",
    "    regexp=regexpstemmer.stem(word)\n",
    "    print(f\"{word} ----> {regexp}\")"
   ]
  },
  {
   "cell_type": "code",
   "execution_count": null,
   "id": "d3e313a5",
   "metadata": {},
   "outputs": [],
   "source": []
  },
  {
   "cell_type": "code",
   "execution_count": null,
   "id": "243292bf",
   "metadata": {},
   "outputs": [],
   "source": []
  },
  {
   "cell_type": "code",
   "execution_count": null,
   "id": "1e41f727",
   "metadata": {},
   "outputs": [],
   "source": []
  },
  {
   "cell_type": "code",
   "execution_count": null,
   "id": "01117abb",
   "metadata": {},
   "outputs": [],
   "source": []
  },
  {
   "cell_type": "code",
   "execution_count": null,
   "id": "31ea2df0",
   "metadata": {},
   "outputs": [],
   "source": []
  },
  {
   "cell_type": "code",
   "execution_count": null,
   "id": "9907bdb0",
   "metadata": {},
   "outputs": [],
   "source": []
  },
  {
   "cell_type": "code",
   "execution_count": null,
   "id": "84745888",
   "metadata": {},
   "outputs": [],
   "source": []
  },
  {
   "cell_type": "code",
   "execution_count": null,
   "id": "465a0ea7",
   "metadata": {},
   "outputs": [],
   "source": []
  }
 ],
 "metadata": {
  "kernelspec": {
   "display_name": "Python 3 (ipykernel)",
   "language": "python",
   "name": "python3"
  },
  "language_info": {
   "codemirror_mode": {
    "name": "ipython",
    "version": 3
   },
   "file_extension": ".py",
   "mimetype": "text/x-python",
   "name": "python",
   "nbconvert_exporter": "python",
   "pygments_lexer": "ipython3",
   "version": "3.10.9"
  }
 },
 "nbformat": 4,
 "nbformat_minor": 5
}
