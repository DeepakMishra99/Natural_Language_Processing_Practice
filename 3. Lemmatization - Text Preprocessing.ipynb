{
 "cells": [
  {
   "cell_type": "markdown",
   "id": "7ee8db25",
   "metadata": {},
   "source": [
    "## Lemmatization in NLP"
   ]
  },
  {
   "cell_type": "code",
   "execution_count": 7,
   "id": "ae55aeed",
   "metadata": {},
   "outputs": [],
   "source": [
    "from nltk.stem import WordNetLemmatizer"
   ]
  },
  {
   "cell_type": "code",
   "execution_count": 8,
   "id": "c324cf37",
   "metadata": {},
   "outputs": [],
   "source": [
    "words = [\"playing\", \"plays\", \"played\", \"running\", \"happiness\", \"universities\",\"finally\",\"finalize\"]"
   ]
  },
  {
   "cell_type": "code",
   "execution_count": 9,
   "id": "c6ab40eb",
   "metadata": {},
   "outputs": [],
   "source": [
    "lemmatizer=WordNetLemmatizer()"
   ]
  },
  {
   "cell_type": "code",
   "execution_count": 11,
   "id": "2ca7676b",
   "metadata": {},
   "outputs": [
    {
     "name": "stdout",
     "output_type": "stream",
     "text": [
      "playing ----> play\n",
      "plays ----> play\n",
      "played ----> play\n",
      "running ----> run\n",
      "happiness ----> happiness\n",
      "universities ----> universities\n",
      "finally ----> finally\n",
      "finalize ----> finalize\n"
     ]
    }
   ],
   "source": [
    "for word in words:\n",
    "    lemma=lemmatizer.lemmatize(word,pos='v')\n",
    "    print(f\"{word} ----> {lemma}\")\n"
   ]
  },
  {
   "cell_type": "code",
   "execution_count": null,
   "id": "b788d0b4",
   "metadata": {},
   "outputs": [],
   "source": []
  },
  {
   "cell_type": "code",
   "execution_count": null,
   "id": "7fe1067b",
   "metadata": {},
   "outputs": [],
   "source": []
  },
  {
   "cell_type": "code",
   "execution_count": null,
   "id": "23a9ab79",
   "metadata": {},
   "outputs": [],
   "source": []
  },
  {
   "cell_type": "code",
   "execution_count": null,
   "id": "281a78f8",
   "metadata": {},
   "outputs": [],
   "source": []
  },
  {
   "cell_type": "code",
   "execution_count": null,
   "id": "e200bbb3",
   "metadata": {},
   "outputs": [],
   "source": []
  },
  {
   "cell_type": "code",
   "execution_count": null,
   "id": "0b5f19ee",
   "metadata": {},
   "outputs": [],
   "source": []
  }
 ],
 "metadata": {
  "kernelspec": {
   "display_name": "Python 3 (ipykernel)",
   "language": "python",
   "name": "python3"
  },
  "language_info": {
   "codemirror_mode": {
    "name": "ipython",
    "version": 3
   },
   "file_extension": ".py",
   "mimetype": "text/x-python",
   "name": "python",
   "nbconvert_exporter": "python",
   "pygments_lexer": "ipython3",
   "version": "3.10.9"
  }
 },
 "nbformat": 4,
 "nbformat_minor": 5
}
